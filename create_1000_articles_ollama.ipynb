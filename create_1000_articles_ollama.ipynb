{
 "cells": [
  {
   "cell_type": "code",
   "execution_count": 18,
   "id": "91bd4f3c",
   "metadata": {},
   "outputs": [],
   "source": [
    "import ollama\n",
    "import json\n",
    "import re\n",
    "from tqdm import tqdm"
   ]
  },
  {
   "cell_type": "code",
   "execution_count": 2,
   "id": "c36e0d73",
   "metadata": {},
   "outputs": [],
   "source": [
    "model_name = \"mistral-nemo:latest\""
   ]
  },
  {
   "cell_type": "code",
   "execution_count": 3,
   "id": "6a1ab86b",
   "metadata": {},
   "outputs": [],
   "source": [
    "with open(\"prompts/article_creation.txt\", \"r\") as f:\n",
    "    article_creation_prompt = f.read()"
   ]
  },
  {
   "cell_type": "code",
   "execution_count": 7,
   "id": "cd88be87",
   "metadata": {},
   "outputs": [],
   "source": [
    "with open(\"articles/machine_learning/sanitize_topics_dict_last_formatted.json\", \"r\") as json_file:\n",
    "    topics_list = json.load(json_file)"
   ]
  },
  {
   "cell_type": "code",
   "execution_count": 22,
   "id": "9399ad92",
   "metadata": {},
   "outputs": [],
   "source": [
    "def save_article(topic, article, idx):\n",
    "    # remove non alphanumeric characters with a space\n",
    "    topic_alphanumeric = re.sub(r'[^a-zA-Z0-9]', ' ', topic)\n",
    "    # lowecase all topics, split by space, and join with underscore\n",
    "    # example: \"Machine Learning\" -> \"machine_learning\"\n",
    "    topic_alphanumeric = topic_alphanumeric.lower().split(\" \")\n",
    "    title = \"_\".join(topic_alphanumeric)\n",
    "    with open(f\"articles/machine_learning/{title}.json\", \"w\") as f:\n",
    "        json.dump(article, f, indent=2)\n",
    "    print(f\"Saved article {idx + 1} for topic: {title}\")"
   ]
  },
  {
   "cell_type": "code",
   "execution_count": null,
   "id": "6ac3ff35",
   "metadata": {},
   "outputs": [],
   "source": [
    "is_done = False\n",
    "index = 0\n",
    "shortened_topics = topics_list #should run this in batches\n",
    "total = len(shortened_topics)\n",
    "pbar = tqdm(total=total)\n",
    "while not is_done:\n",
    "    topic = shortened_topics[index]\n",
    "    final_creation_prompt = article_creation_prompt.format(topic=topic)\n",
    "    print(f\"Generating article for topic: {topic}\")\n",
    "    reponse = ollama.generate(model=model_name, prompt=final_creation_prompt)\n",
    "    article_text = reponse['response']\n",
    "    try:\n",
    "        article_dict = json.loads(article_text)\n",
    "        save_article(shortened_topics[index], article_dict, index)\n",
    "        index += 1\n",
    "        pbar.update(1) # update by 1 for each iteration\n",
    "    except json.JSONDecodeError:\n",
    "        # two options: 1. fix the non-valid JSON\n",
    "        print(\"Response is not valid JSON, trying to fix it.\")\n",
    "        if \"```json\" in article_text:\n",
    "            # remove the ```json and ``` from the article_text\n",
    "            clean_text = article_text[8:-4].strip()\n",
    "            try:\n",
    "                article_dict = json.loads(clean_text)\n",
    "                save_article(shortened_topics[index], article_dict, index)\n",
    "                index += 1\n",
    "                pbar.update(1) # update by 1 for each iteration\n",
    "            except json.JSONDecodeError:\n",
    "                print(\"Still not a valid JSON, redo generation.\")\n",
    "        else:\n",
    "            print(\"Response is not in markdown.\")\n",
    "    if index >= len(shortened_topics):\n",
    "        is_done = True\n",
    "pbar.update(total - pbar.n)\n",
    "pbar.close()\n",
    "\n"
   ]
  },
  {
   "cell_type": "code",
   "execution_count": null,
   "id": "03dfd54b",
   "metadata": {},
   "outputs": [],
   "source": []
  }
 ],
 "metadata": {
  "kernelspec": {
   "display_name": "Python 3",
   "language": "python",
   "name": "python3"
  },
  "language_info": {
   "codemirror_mode": {
    "name": "ipython",
    "version": 3
   },
   "file_extension": ".py",
   "mimetype": "text/x-python",
   "name": "python",
   "nbconvert_exporter": "python",
   "pygments_lexer": "ipython3",
   "version": "3.13.5"
  }
 },
 "nbformat": 4,
 "nbformat_minor": 5
}
