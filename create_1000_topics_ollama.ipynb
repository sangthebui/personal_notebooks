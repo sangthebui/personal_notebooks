{
 "cells": [
  {
   "cell_type": "code",
   "execution_count": 1,
   "id": "611895cb",
   "metadata": {},
   "outputs": [],
   "source": [
    "import ollama\n",
    "import json"
   ]
  },
  {
   "cell_type": "code",
   "execution_count": 2,
   "id": "f2de29d5",
   "metadata": {},
   "outputs": [],
   "source": [
    "model_name = \"mistral-nemo:latest\""
   ]
  },
  {
   "cell_type": "code",
   "execution_count": 3,
   "id": "cc56b1f1",
   "metadata": {},
   "outputs": [],
   "source": [
    "with open(\"prompts/topic_generation.txt\", \"r\") as f:\n",
    "    topic_prompt = f.read()"
   ]
  },
  {
   "cell_type": "code",
   "execution_count": 4,
   "id": "a064cdf5",
   "metadata": {},
   "outputs": [],
   "source": [
    "total = 1100\n",
    "topics_list = []"
   ]
  },
  {
   "cell_type": "code",
   "execution_count": 5,
   "id": "d85ac04a",
   "metadata": {},
   "outputs": [
    {
     "name": "stdout",
     "output_type": "stream",
     "text": [
      "generated total: 72\n",
      "generated total: 140\n",
      "generated total: 363\n",
      "generated total: 690\n",
      "generated total: 693\n",
      "generated total: 695\n",
      "generated total: 697\n",
      "generated total: 699\n",
      "generated total: 701\n",
      "generated total: 703\n",
      "generated total: 705\n",
      "generated total: 707\n",
      "generated total: 709\n",
      "generated total: 722\n",
      "generated total: 727\n",
      "generated total: 729\n",
      "llm return none json data.\n",
      "generated total: 729\n",
      "generated total: 731\n",
      "generated total: 733\n",
      "generated total: 735\n",
      "generated total: 737\n",
      "generated total: 739\n",
      "generated total: 741\n",
      "generated total: 743\n",
      "generated total: 745\n",
      "generated total: 747\n",
      "generated total: 749\n",
      "generated total: 751\n",
      "generated total: 754\n",
      "generated total: 757\n",
      "generated total: 762\n",
      "generated total: 765\n",
      "generated total: 767\n",
      "generated total: 770\n",
      "generated total: 772\n",
      "generated total: 774\n",
      "generated total: 776\n",
      "generated total: 778\n",
      "generated total: 780\n",
      "generated total: 782\n",
      "generated total: 784\n",
      "generated total: 787\n",
      "generated total: 789\n",
      "generated total: 791\n",
      "generated total: 793\n",
      "generated total: 796\n",
      "generated total: 798\n",
      "generated total: 800\n",
      "generated total: 803\n",
      "generated total: 805\n",
      "generated total: 807\n",
      "generated total: 809\n",
      "generated total: 811\n",
      "generated total: 813\n",
      "generated total: 815\n",
      "generated total: 817\n",
      "generated total: 819\n",
      "generated total: 849\n",
      "generated total: 851\n",
      "generated total: 853\n",
      "generated total: 855\n",
      "generated total: 857\n",
      "generated total: 859\n",
      "generated total: 861\n",
      "generated total: 863\n",
      "generated total: 865\n",
      "generated total: 867\n",
      "generated total: 869\n",
      "generated total: 871\n",
      "generated total: 873\n",
      "generated total: 875\n",
      "generated total: 877\n",
      "generated total: 909\n",
      "generated total: 911\n",
      "generated total: 913\n",
      "generated total: 917\n",
      "generated total: 919\n",
      "generated total: 921\n",
      "generated total: 923\n",
      "generated total: 925\n",
      "generated total: 927\n",
      "generated total: 929\n",
      "generated total: 931\n",
      "generated total: 933\n",
      "generated total: 935\n",
      "generated total: 937\n",
      "generated total: 939\n",
      "generated total: 941\n",
      "generated total: 943\n",
      "generated total: 945\n",
      "generated total: 947\n",
      "generated total: 949\n",
      "generated total: 984\n",
      "generated total: 1027\n",
      "generated total: 1029\n",
      "generated total: 1031\n",
      "generated total: 1033\n",
      "generated total: 1035\n",
      "generated total: 1038\n",
      "generated total: 1040\n",
      "generated total: 1042\n",
      "generated total: 1044\n",
      "generated total: 1072\n",
      "generated total: 1074\n",
      "generated total: 1076\n",
      "generated total: 1098\n",
      "generated total: 1100\n"
     ]
    }
   ],
   "source": [
    "while len(topics_list) < total:\n",
    "    final_prompt = topic_prompt.format(list_of_topics=topics_list)\n",
    "    reponse = ollama.generate(model=model_name, prompt=final_prompt)\n",
    "    topics = reponse['response']\n",
    "    try:\n",
    "        topics_list += json.loads(topics)\n",
    "    except json.JSONDecodeError:\n",
    "        print(\"llm return none json data.\")\n",
    "        \n",
    "    print(f\"generated total: {len(topics_list)}\")\n",
    "    "
   ]
  },
  {
   "cell_type": "code",
   "execution_count": 6,
   "id": "a7ac1ea3",
   "metadata": {},
   "outputs": [],
   "source": [
    "with open(\"articles/machine_learning/list_of_topics.json\", \"w\") as f:\n",
    "    json.dump(topics_list, f, indent=2)"
   ]
  },
  {
   "cell_type": "code",
   "execution_count": 7,
   "id": "983061c4",
   "metadata": {},
   "outputs": [],
   "source": [
    "with open(\"prompts/topic_sanitize.txt\", \"r\") as text_file:\n",
    "    sanitize_prompt = text_file.read()"
   ]
  },
  {
   "cell_type": "markdown",
   "id": "a30066c2",
   "metadata": {},
   "source": [
    "# Use a better LLM to clean up like Google Gemini 2.5 Flash"
   ]
  },
  {
   "cell_type": "code",
   "execution_count": 8,
   "id": "d99dd9b3",
   "metadata": {},
   "outputs": [
    {
     "data": {
      "text/plain": [
       "'You are a Machine Learning Expert who has breadth and depth in all things AI. \\nFrom supervised, unsupervise, and reinforcement learning. \\nYou are knowledgable about the entire data science field as well - from conception to deployments.\\nYou are knowledgable about the math behind programming and machine learning as well. Statistics and Probability, Discrete Math, Calculus, and Linear Algrebra.\\n\\nPlease remove from the list below any topic that is NOT relevant to Machine Learning, \\nMath, models, supervised, unsupervise, entire data science field,\\nStatistics and Probability, Discrete Math, Calculus, and Linear Algrebra,\\nreinforcement learning, or AI-related:\\n--------------------\\n[\\'SVM Kernel\\', \\'PCA Application\\', \\'Naive Bayes Assumptions\\', \\'Gradient Descent Momentum\\', \\'K-means Convergence\\', \\'Bayesian Inference\\', \\'Deep Learning Layer Types\\', \\'Reinforcement Learning Exploration\\', \\'Tree Pruning Techniques\\', \\'Ensemble Method Diversity\\', \\'Logistic Regression Regularization\\', \\'Neural Network Activation Functions\\', \\'Supervised Learning Bias\\', \\'Unsupervised Learning Noise\\', \\'Clustering Silhouette Score\\', \\'Natural Language Processing Tokenization\\', \\'Computer Vision Object Detection\\', \\'Deep Learning Transfer Learning\\', \\'Anomaly Detection Methods\\', \\'Time Series Forecasting Techniques\\', \\'Recommender System Evaluation\\', \\'Graph Neural Networks Applications\\', \\'Explainable AI LIME\\', \\'Fairness Definitions in ML\\', \\'AutoML Algorithm Selection\\', \\'Evolutionary Computation Operators\\', \\'Swarm Intelligence Particle Swarm\\', \\'Simulated Annealing Acceptance Criteria\\', \\'Genetic Algorithm Representations\\', \\'Random Forest Hyperparameters\\', \\'Boosting Ensemble Learning Methods\\', \\'Model Interpretability SHAP\\', \\'Feature Selection Filter Wrapper Embedding\\', \\'Data Preprocessing Imputation\\', \\'Dimensionality Reduction Curse of Dimensionality\\', \\'Transfer Learning Domain Adaptation\\', \\'Multi-label Classification Evaluation Metrics\\', \\'Imbalanced Data Handling SMOTE\\', \\'Batch Normalization Reparameterization\\', \\'Recurrent Neural Networks Vanishing Gradient\\', \\'Transformer Attention Mechanisms\\', \\'Generative Adversarial Network Training\\', \\'Variational Autoencoder Loss Function\\', \\'Deep Learning Batch Size Effects\\', \\'Quantum Machine Learning Applications\\', \\' Federated Learning Challenges\\', \\'MLOps Infrastructure as Code\\', \\'A/B Testing Statistical Significance\\', \\'Canonical Correlation Analysis Application\\', \\'Data Augmentation Techniques Computer Vision\\', \\'Convolutional Neural Network Architectures\\', \\'Graph Convolutional Network Definitions\\', \\'Reinforcement Learning Deep Q-Network\\', \\'Eigenvalue Eigenvector Decomposition\\', \\'Principal Component Analysis Rotation\\', \\'Expectation Maximization Convergence\\', \\'Neural Network Training Optimizers\\', \\'Random Forest Out of Bag Sampling\\', \\'Decision Tree C4.5 ID3\\', \\'K-nearest Neighbors Curse of Nearness\\', \\'Support Vector Machine Soft Margin\\', \\'Neural Network Dropout Regularization\\', \\'Transfer Learning Fine Tuning\\', \\'Multilabel Classification Cost Sensitivity\\', \\'Ensemble Method Stacking Bagging Boosting\\', \\'Model Selection Cross Validation\\', \\'Anomaly Detection Isolation Forest\\', \\'Time Series Decomposition Techniques\\', \\'Data Privacy Differential Privacy\\', \\'Recommender System Matrix Factorization\\', \\'Graph Neural Network Inductive Learning\\', \\'Fairness in ML Disparate Impact\\', \\'Bayesian Inference\\', \\'Convolutional Layers\\', \\'Deep Neural Networks\\', \\'Ensemble Learning\\', \\'Feature Extraction\\', \\'Generalization Error\\', \\'Hidden Markov Model\\', \\'Image Classification\\', \\'K-Nearest Neighbors\\', \\'L2 Regularization\\', \\'Logistic Regression\\', \\'Natural Language Processing\\', \\'Neural Network Architectures\\', \\'Overfitting Underfitting\\', \\'Perceptron Learning Rule\\', \\'Principal Component Analysis\\', \\'Reinforcement Learning Environments\\', \\'Semi-Supervised Learning\\', \\'Support Vector Machines\\', \\'Time Series Forecasting\\', \\'Transfer Learning Techniques\\', \\'Unsupervised Clustering\\', \\'Variational Autoencoders\\', \\'Waterfall Chart Interpretation\\', \\'XGBoost Gradient Boosting\\', \\'Adversarial Examples\\', \\'Bagging Bootstrapping\\', \\'Binary Classification Problems\\', \\'CART Decision Trees\\', \\'CatBoost Algorithm\\', \\'Classification Accuracy\\', \\'Confusion Matrix Diagonal\\', \\'Cost-Sensitive Learning\\', \\'Cross-Entropy Loss Function\\', \\'Data Augmentation Techniques\\', \\'Deep Learning Frameworks\\', \\'Dimensionality Reduction Techniques\\', \\'Ensemble Method Diversity\\', \\'Evaluation Metrics AUC ROC\\', \\'Feature Importance Measures\\', \\'Gaussian Mixture Models\\', \\'Gradient Descent Variants\\', \\'Hardware Acceleration Machine Learning\\', \\'High-Dimensional Data Visualization\\', \\'Imbalanced Data Handling\\', \\'K-means Clustering Initialization\\', \\'Lasso Regularization\\', \\'LightGBM Gradient Boosting\\', \\'Mahalanobis Distance Metric\\', \\'Mean Shift Clustering\\', \\'Multiclass Classification Strategies\\', \\'NASNet Architecture\\', \\'Neural Network Pruning Techniques\\', \\'Object Detection Frameworks\\', \\'One-Hot Encoding Categorical Features\\', \\'Overparameterization Neural Networks\\', \\'PolyNomial Features Scikit-learn\\', \\'Quantile Regression Forests\\', \\'Recurrent Neural Network Architectures\\', \\'Residual Connections\\', \\'Scaling Transformations Data\\', \\'Stochastic Gradient Descent\\', \\'Supervised Learning Bias Variance\\', \\'Temporal Convolutional Networks\\', \\'Undercomplete Autoencoders\\', \\'Variational Inference Methods\\', \\'Word Embeddings Techniques\\', \\'Z-Score Normalization\\', \\'Supervised Learning\\', \\'Unsupervised Learning\\', \\'Reinforcement Learning\\', \\'Semi-Supervised Learning\\', \\'Active Learning\\', \\'Transfer Learning\\', \\'Domain Adaptation\\', \\'Multi-Task Learning\\', \\'One-Shot Learning\\', \\'Few-Shot Learning\\', \\'Meta-Learning\\', \\'Online Learning\\', \\'Batch Learning\\', \\'Incremental Learning\\', \\'Life-Long Learning\\', \\'Continual Learning\\', \\'Adversarial Learning\\', \\'Generative Learning\\', \\'Discriminative Learning\\', \\'Deep Learning\\', \\'Shallow Learning\\', \\'Wide Learning\\', \\'Deep vs Shallow\\', \\'Linear Regression\\', \\'Logistic Regression\\', \\'Polynomial Regression\\', \\'Ridge Regression\\', \\'Lasso Regression\\', \\'Elastic Net\\', \\'SVM Linear\\', \\'SVM Polynomial\\', \\'SVM RBF\\', \\'SVM Sigmoid\\', \\'Decision Trees\\', \\'Random Forests\\', \\'Gradient Boosting\\', \\'AdaBoost\\', \\'XGBoost\\', \\'LightGBM\\', \\'CatBoost\\', \\'Naive Bayes\\', \\'Bernoulli Naive Bayes\\', \\'Multinomial Naive Bayes\\', \\'Gaussian Naive Bayes\\', \\'K-NN\\', \\'K-Means\\', \\'Hierarchical Clustering\\', \\'DBSCAN\\', \\'Agglomerative Clustering\\', \\'Spectral Clustering\\', \\'PCA\\', \\'t-SNE\\', \\'UMAP\\', \\'Autoencoders\\', \\'Sparse Autoencoders\\', \\'Denoising Autoencoders\\', \\'Variational Autoencoders\\', \\'Convolutional Neural Networks\\', \\'Recurrent Neural Networks\\', \\'LSTM\\', \\'GRU\\', \\'Transformer\\', \\'Attention Mechanisms\\', \\'Self-Attention\\', \\'CNN Architectures\\', \\'ResNets\\', \\'Inception\\', \\'GoogLeNet\\', \\'VGG\\', \\'AlexNet\\', \\'RNN Architectures\\', \\'Hebb Rule\\', \\'Percetron\\', \\'BPNN\\', \\'Hebbian Learning\\', \\'Competitive Learning\\', \\'Cooperative Learning\\', \\'Artificial Neural Networks\\', \\'Natural Neural Networks\\', \\'Feedforward Neural Networks\\', \\'Feedback Neural Networks\\', \\'Radial Basis Function Networks\\', \\'Self-Organizing Maps\\', \\'Spiking Neural Networks\\', \\'Neural Turing Machines\\', \\'Recurrent Backpropagation\\', \\'Real-Time Recurrent Learning\\', \\'Echo State Networks\\', \\'Hopfield Networks\\', \\'Boltzmann Machines\\', \\'Restricted Boltzmann Machines\\', \\'Generative Models\\', \\'GANs\\', \\'VAEs\\', \\'VQ-VAEs\\', \\'AWLs\\', \\'Energy-Based Models\\', \\'Score Function Methods\\', \\'IWAE\\', \\'REINFORCE\\', \\'DDPG\\', \\'DQN\\', \\'Double DQN\\', \\'Dueling DQN\\', \\'PPO\\', \\'SAC\\', \\'TD Learning\\', \\'MC Learning\\', \\'Temporal Difference Learning\\', \\'Actor-Critic Methods\\', \\'Policy Gradient Methods\\', \\'Value Function Approximation\\', \\'State-Action-Reward-State-Action\\', \\'Deep Reinforcement Learning\\', \\'Multi-Agent Reinforcement Learning\\', \\'MARL\\', \\'Partially Observable Markov Decision Processes\\', \\'POMDP\\', \\'Markov Decision Processes\\', \\'MDP\\', \\'Dynamic Programming\\', \\'Q-Learning\\', \\'SARSA\\', \\'Linear Quadratic Regulator\\', \\'LQR\\', \\'kalman Filtering\\', \\'Bayesian Filters\\', \\'HMMs\\', \\'RNNs for Sequence Modeling\\', \\'Sequence to Sequence Models\\', \\'Attention Decoder\\', \\'Beam Search\\', \\'N-Grams\\', \\'Word Embeddings\\', \\'Sentiment Analysis\\', \\'Named Entity Recognition\\', \\'Part-of-Speech Tagging\\', \\'Machine Translation\\', \\'Text Classification\\', \\'Spam Filtering\\', \\'Image Classification\\', \\'Object Detection\\', \\'Face Recognition\\', \\'Human Pose Estimation\\', \\'Segmentation\\', \\'Semantic Segmentation\\', \\'Instance Segmentation\\', \\'3D Object Reconstruction\\', \\'Graph Neural Networks\\', \\'GNNs\\', \\'Graph Convolutional Networks\\', \\'Graph Attention Networks\\', \\'GraphSAGE\\', \\'GIN\\', \\'Chemistry Graphs\\', \\'Social Network Analysis\\', \\'Bioinformatics Graphs\\', \\'Traffic Flow Prediction\\', \\'Anomaly Detection\\', \\'Outlier Detection\\', \\'Novelty Detection\\', \\'Change Point Detection\\', \\'Causal Inference\\', \\'Counterfactual Reasoning\\', \\'Explainable AI\\', \\'Interpretable AI\\', \\'Fairness in AI\\', \\'Bias Mitigation\\', \\'Privacy-Preserving ML\\', \\'Differential Privacy\\', \\'Federated Learning\\', \\'Transfer Learning for NLP\\', \\'Zero-Shot Learning\\', \\'One-Shot Learning for Images\\', \\'Image Captioning\\', \\'Visual Question Answering\\', \\'Audio Classification\\', \\'Speech Recognition\\', \\'Time Series Forecasting\\', \\'Temporal Convolutional Networks\\', \\'Temporal Feature Extraction\\', \\'Spatial-Temporal Graphs\\', \\'Spatiotemporal Data Analysis\\', \\'Multimodal Learning\\', \\'Cross-Modal Learning\\', \\'Joint Representation Learning\\', \\'Multitask Learning\\', \\'A/B Testing\\', \\'Bandit Algorithms\\', \\'Online Learning Algorithms\\', \\'Batch Learning Algorithms\\', \\'Incremental Learning Algorithms\\', \\'Life-Long Learning Algorithms\\', \\'Continual Learning Algorithms\\', \\'Adversarial Learning Algorithms\\', \\'Generative Learning Algorithms\\', \\'Discriminative Learning Algorithms\\', \\'Deep Learning Libraries\\', \\'Shallow Learning Libraries\\', \\'Wide Learning Libraries\\', \\'MLOps Platforms\\', \\'Data Science Workflows\\', \\'Model Versioning\\', \\'Experiment Tracking\\', \\'Continuous Integration and Deployment for ML\\', \\'A/B Testing Frameworks\\', \\'Bandit Algorithms Frameworks\\', \\'Online Learning Frameworks\\', \\'Batch Learning Frameworks\\', \\'Incremental Learning Frameworks\\', \\'Life-Long Learning Frameworks\\', \\'Continual Learning Frameworks\\', \\'Adversarial Learning Frameworks\\', \\'Generative Learning Frameworks\\', \\'Discriminative Learning Frameworks\\', \\'Deep Learning Libraries Frameworks\\', \\'Shallow Learning Libraries Frameworks\\', \\'Wide Learning Libraries Frameworks\\', \\'MLOps Platforms Frameworks\\', \\'Data Science Workflows Frameworks\\', \\'Model Versioning Frameworks\\', \\'Experiment Tracking Frameworks\\', \\'Continuous Integration and Deployment for ML Frameworks\\', \\'Bayesian Inference\\', \\'Decision Theory\\', \\'Hypothesis Testing\\', \\'Maximum Likelihood Estimation\\', \\'Maximum A Posteriori Estimation\\', \\'Expectation Maximization\\', \\'Variational Inference\\', \\'Kullback-Leibler Divergence\\', \\'Entropy\\', \\'Cross-Entropy Loss\\', \\'Mean Squared Error\\', \\'Root Mean Squared Error\\', \\'Adjusted R-Squared\\', \\'F1 Score\\', \\'Precision Recall Tradeoff\\', \\'Receiver Operating Characteristic Curve\\', \\'Confusion Matrix\\', \\'Area Under the Curve\\', \\'Log Loss\\', \\'Binary Cross-Entropy\\', \\'Multi-Class Cross-Entropy\\', \\'Categorical Cross-Entropy\\', \\'Mean Absolute Error\\', \\'Median Absolute Error\\', \\'Huber Loss\\', \\'Quantile Regression\\', \\'Generalized Linear Models\\', \\'Poisson Regression\\', \\'Binomial Regression\\', \\'Gamma Regression\\', \\'Beta Regression\\', \\'Coefficient of Determination\\', \\'Residuals Standard Error\\', \\'Akaike Information Criterion\\', \\'Bayesian Information Criterion\\', \\'Regularization Parameters\\', \\'L1 Regularization\\', \\'L2 Regularization\\', \\'Elastic Net Regularization\\', \\'Ridge Regression\\', \\'Lasso Regression\\', \\'Robust Regression\\', \\'Total Least Squares\\', \\'Structured Learning\\', \\'Graphical Models\\', \\'Bayesian Networks\\', \\'Markov Random Fields\\', \\'Conditional Random Fields\\', \\'Chain Graphs\\', \\'State Space Models\\', \\'Kalman Filter\\', \\'Particle Filters\\', \\'Hidden Markov Models\\', \\'Higher Order Markov Models\\', \\'Autoregressive Integrated Moving Average Models\\', \\'Vector Autoregression\\', \\'Structural Equation Modeling\\', \\'Factor Analysis\\', \\'Principal Component Analysis\\', \\'Independent Component Analysis\\', \\'Canonical Correlation Analysis\\', \\'Multivariate Analysis of Variance\\', \\'Manifold Learning\\', \\'Isomap\\', \\'Locally Linear Embedding\\', \\'t-Distributed Stochastic Neighbor Embedding\\', \\'Uniform Manifold Approximation and Projection\\', \\'Bottleneck MDS\\', \\'Laplacian Eigenmaps\\', \\'Neural Networks\\', \\'Multi-Layer Perceptron\\', \\'Radial Basis Function Network\\', \\'Self-Organizing Map\\', \\'Artificial Neural Network\\', \\'Convolutional Neural Network\\', \\'Recurrent Neural Network\\', \\'Long Short-Term Memory\\', \\'Gated Recurrent Unit\\', \\'Bidirectional Encoder Representations from Transformers\\', \\'Transformers\\', \\'Attention Mechanisms\\', \\'Self-Attention\\', \\'Scaled Dot Product Attention\\', \\'Multi-Head Attention\\', \\'Positional Encoding\\', \\'Embedding Layer\\', \\'Convolutional Layer\\', \\'Pooling Layer\\', \\'Batch Normalization\\', \\'Dropout Regularization\\', \\'Early Stopping\\', \\'Learning Rate Schedule\\', \\'Momentum\\', \\'Nesterov Accelerated Gradient\\', \\'Adaptive Learning Rate Methods\\', \\'Stochastic Gradient Descent\\', \\'Mini-Batch Gradient Descent\\', \\'Stochastic Average Gradient\\', \\'Root Mean Square Propagation\\', \\'Adam Optimization\\', \\'RMSprop Optimization\\', \\'Adagrad Optimization\\', \\'Gradient Boosting\\', \\'XGBoost\\', \\'LightGBM\\', \\'CatBoost\\', \\'AdaBoost\\', \\'Random Forest\\', \\'Decision Trees\\', \\'CART\\', \\'ID3\\', \\'C4.5\\', \\'Ensemble Methods\\', \\'Bagging\\', \\'Boosting\\', \\'Stacking\\', \\'Feature Extraction\\', \\'Principal Component Analysis\\', \\'t-Distributed Stochastic Neighbor Embedding\\', \\'Linear Discriminant Analysis\\', \\'Quadratic Discriminant Analysis\\', \\'Kernel Methods\\', \\'Support Vector Machines\\', \\'Least Squares Support Vector Machines\\', \\'Stochastic Gradient Descent for SVMs\\', \\'Kernels\\', \\'Polynomial Kernel\\', \\'Gaussian Kernel\\', \\'Sigmoid Kernel\\', \\'Radial Basis Function Kernel\\', \\'Generalized Linear Models\\', \\'Logistic Regression\\', \\'Naive Bayes\\', \\'Bernoulli Naive Bayes\\', \\'Multinomial Naive Bayes\\', \\'Gaussian Naive Bayes\\', \\'K-Nearest Neighbors\\', \\'K-Means Clustering\\', \\'Hierarchical Clustering\\', \\'DBSCAN\\', \\'Spectral Clustering\\', \\'Agglomerative Clustering\\', \\'Affinity Propagation\\', \\'Mean Shift Clustering\\', \\'Birch\\', \\'Clustering Evaluation Metrics\\', \\'Silhouette Score\\', \\'Davies-Bouldin Index\\', \\'Calinski-Harabasz Index\\', \\'Adjusted Rand Index\\', \\'Normalization Techniques\\', \\'Min-Max Scaling\\', \\'Z-Score Normalization\\', \\'Decimal Scaling\\', \\'RobustScaler\\', \\'StandardScaler\\', \\'Log Transformation\\', \\'Power Transformation\\', \\'Binning\\', \\'Histogram Binning\\', \\'Uniform Quantile Binning\\', \\'Decision Rule Learning\\', \\'Rule-Based Classifiers\\', \\'One-Rule Learner\\', \\'Zero-R Rule Learner\\', \\'Binary Relevance Ranking\\', \\'Pairwise Classification\\', \\'Multi-Class Classification\\', \\'Multi-Label Classification\\', \\'Imbalanced Data Handling\\', \\'Over-Sampling Techniques\\', \\'Under-Sampling Techniques\\', \\'Ensemble Sampling Methods\\', \\'Ensemble Learning for Imbalanced Data\\', \\'Adaptive Synthetic Sampling\\', \\'Neural Networks for Imbalanced Data\\', \\'Feature Engineering\\', \\'One-Hot Encoding\\', \\'Label Encoding\\', \\'Pandas Profiling\\', \\'Domain Knowledge Features\\', \\'Constructed Features\\', \\'Wavelet Transform\\', \\'Fast Fourier Transform\\', \\'Time Series Feature Extraction\\', \\'Temporal Convolutional Networks\\', \\'Temporal Feature Extraction\\', \\'Image Processing Techniques\\', \\'Convolutional Neural Networks for Image Processing\\', \\'Transfer Learning\\', \\'Fine-Tuning\\', \\'Domain-Adversarial Training\\', \\'Multi-Task Learning\\', \\'Joint Optimization\\', \\'Model Ensembling\\', \\'Ensemble Learning\\', \\'Stacking Generalization\\', \\'Boosting\\', \\'Bagging and Boosting\\', \\'AdaBoost\\', \\'Gradient Boosting\\', \\'Extreme Gradient Boosting\\', \\'XGBoost\\', \\'LightGBM\\', \\'CatBoost\\', \\'Random Forest\\', \\'Decision Trees\\', \\'CART\\', \\'ID3\\', \\'C4.5\\', \\'Bayesian Classifiers\\', \\'Naive Bayes\\', \\'Bernoulli Naive Bayes\\', \\'Multinomial Naive Bayes\\', \\'Gaussian Naive Bayes\\', \\'K-Nearest Neighbors\\', \\'Support Vector Machines\\', \\'Least Squares Support Vector Machines\\', \\'Stochastic Gradient Descent for SVMs\\', \\'Kernels\\', \\'Polynomial Kernel\\', \\'Gaussian Kernel\\', \\'Sigmoid Kernel\\', \\'Radial Basis Function Kernel\\', \\'Generalized Linear Models\\', \\'Logistic Regression\\', \\'Naive Bayes classifier\\', \\'K-NN algorithm\\', \\'K-Means clustering\\', \\'Hierarchical clustering\\', \\'DBSCAN clustering\\', \\'Spectral clustering\\', \\'Agglomerative clustering\\', \\'Affinity propagation\\', \\'Mean shift clustering\\', \\'BIRCH clustering\\', \\'Clustering evaluation metrics\\', \\'Silhouette score\\', \\'Davies-Bouldin index\\', \\'Calinski-Harabasz index\\', \\'Adjusted rand index\\', \\'Normalization techniques\\', \\'Min-max scaling\\', \\'Z-score normalization\\', \\'Decimal scaling\\', \\'RobustScaler\\', \\'StandardScaler\\', \\'Log transformation\\', \\'Power transformation\\', \\'Binning techniques\\', \\'Histogram binning\\', \\'Uniform quantile binning\\', \\'Decision rule learning\\', \\'Rule-based classifiers\\', \\'One-rule learner\\', \\'Zero-R rule learner\\', \\'Binary relevance ranking\\', \\'Pairwise classification\\', \\'Multi-class classification\\', \\'Multi-label classification\\', \\'Imbalanced data handling techniques\\', \\'Over-sampling techniques\\', \\'Under-sampling techniques\\', \\'Ensemble sampling methods\\', \\'Ensemble learning for imbalanced data\\', \\'Adaptive synthetic sampling\\', \\'Neural networks for imbalanced data\\', \\'Feature engineering techniques\\', \\'One-hot encoding\\', \\'Label encoding\\', \\'Pandas profiling\\', \\'Domain knowledge features\\', \\'Constructed features\\', \\'Wavelet transform\\', \\'Fast Fourier transform\\', \\'Time series feature extraction\\', \\'Temporal convolutional networks\\', \\'Temporal feature extraction\\', \\'Image processing techniques\\', \\'Convolutional neural networks for image processing\\', \\'Transfer learning techniques\\', \\'Fine-tuning techniques\\', \\'Domain-adversarial training\\', \\'Multi-task learning\\', \\'Joint optimization techniques\\', \\'Model ensembling techniques\\', \\'Ensemble learning techniques\\', \\'Stacking generalization\\', \\'Boosting techniques\\', \\'Bagging and boosting techniques\\', \\'AdaBoost technique\\', \\'Gradient boosting technique\\', \\'Extreme gradient boosting technique\\', \\'XGBoost technique\\', \\'LightGBM technique\\', \\'CatBoost technique\\', \\'Random forest technique\\', \\'Decision tree technique\\', \\'CART technique\\', \\'ID3 technique\\', \\'C4.5 technique\\', \\'Bayesian classifiers techniques\\', \\'Naive Bayes classifier technique\\', \\'Bernoulli Naive Bayes classifier technique\\', \\'Multinomial Naive Bayes classifier technique\\', \\'Gaussian Naive Bayes classifier technique\\', \\'K-NN algorithm technique\\', \\'Support vector machines technique\\', \\'Least squares support vector machines technique\\', \\'Stochastic gradient descent for SVMs technique\\', \\'Kernel techniques\\', \\'Polynomial kernel technique\\', \\'Gaussian kernel technique\\', \\'Sigmoid kernel technique\\', \\'Radial basis function kernel technique\\', \\'Generalized linear models technique\\', \\'Logistic regression technique\\', \\'Naive Bayes classifier technique (continued)\\', \\'K-NN algorithm technique (continued)\\', \\'K-Means clustering technique\\', \\'Hierarchical clustering technique\\', \\'DBSCAN clustering technique\\', \\'Spectral clustering technique\\', \\'Agglomerative clustering technique\\', \\'Affinity propagation technique\\', \\'Mean shift clustering technique\\', \\'BIRCH clustering technique\\', \\'You are a 32-bit signed integer\\', \\'I am a 64-bit floating-point number\\', \\'We are both mathematical entities\\', \\'32-bit signed integer\\', \\'64-bit floating-point number\\', \\'32-bit signed integer\\', \\'64-bit floating-point number\\', \\'You are a 32-bit signed integer\\', \\'I am a 64-bit floating-point number\\', \\'32-bit signed integer\\', \\'64-bit floating-point number\\', \\'You are a 32-bit signed integer\\', \\'I am a 64-bit floating-point number\\', \\'You are a 32-bit signed integer\\', \\'I am a 64-bit floating-point number\\', \\'You are a 32-bit signed integer\\', \\'I am a 64-bit floating-point number\\', \\'32-bit signed integer\\', \\'64-bit floating-point number\\', \\'You are a 32-bit signed integer\\', \\'I am a 64-bit floating-point number\\', \\'We are both mathematical entities\\', \\'32-bit signed integer\\', \\'64-bit floating-point number\\', \\'32-bit signed integer\\', \\'64-bit floating-point number\\', \\'You are a 32-bit signed integer\\', \\'I am a 64-bit floating-point number\\', \\'32-bit signed integer\\', \\'64-bit floating-point number\\', \\'You are a 32-bit signed integer\\', \\'I am a 64-bit floating-point number\\', \\'You are a 32-bit signed integer\\', \\'I am a 64-bit floating-point number\\', \\'We are both mathematical entities\\', \\'32-bit signed integer\\', \\'64-bit floating-point number\\', \\'You are a 32-bit signed integer\\', \\'I am a 64-bit floating-point number\\', \\'32-bit signed integer\\', \\'64-bit floating-point number\\', \\'You are a 32-bit signed integer\\', \\'I am a 64-bit floating-point number\\', \\'You are a 32-bit signed integer\\', \\'I am a 64-bit floating-point number\\', \\'32-bit signed integer\\', \\'64-bit floating-point number\\', \\'32-bit signed integer\\', \\'64-bit floating-point number\\', \\'You are a 32-bit signed integer\\', \\'I am a 64-bit floating-point number\\', \\'You are a 32-bit signed integer\\', \\'I am a 64-bit floating-point number\\', \\'32-bit signed integer\\', \\'64-bit floating-point number\\', \\'32-bit signed integer\\', \\'64-bit floating-point number\\', \\'You are a 32-bit signed integer\\', \\'I am a 64-bit floating-point number\\', \\'You are a 32-bit signed integer\\', \\'I am a 64-bit floating-point number\\', \\'You are a 32-bit signed integer\\', \\'I am a 64-bit floating-point number\\', \\'We are both mathematical entities\\', \\'You are a 32-bit signed integer\\', \\'I am a 64-bit floating-point number\\', \\'We are both mathematical entities\\', \\'32-bit signed integer\\', \\'64-bit floating-point number\\', \\'You are a 32-bit signed integer\\', \\'I am a 64-bit floating-point number\\', \\'We are both mathematical entities\\', \\'You are a 32-bit signed integer\\', \\'I am a 64-bit floating-point number\\', \\'We are both mathematical entities\\', \\'You are a 32-bit signed integer\\', \\'I am a 64-bit floating-point number\\', \\'You are a 32-bit signed integer\\', \\'I am a 64-bit floating-point number\\', \\'We are both mathematical entities\\', \\'You are a 32-bit signed integer\\', \\'I am a 64-bit floating-point number\\', \\'You are a 32-bit signed integer\\', \\'I am a 64-bit floating-point number\\', \\'You are a 32-bit signed integer\\', \\'I am a 64-bit floating-point number\\', \\'You are a 32-bit signed integer\\', \\'I am a 64-bit floating-point number\\', \\'You are a 32-bit signed integer\\', \\'I am a 64-bit floating-point number\\', \\'You are a 32-bit signed integer\\', \\'I am a 64-bit floating-point number\\', \\'You are a 32-bit signed integer\\', \\'I am a 64-bit floating-point number\\', \\'You are a 32-bit signed integer\\', \\'I am a 64-bit floating-point number\\', \\'We are both mathematical entities\\', \\'You are a 32-bit signed integer\\', \\'I am a 64-bit floating-point number\\', \\'You are a 32-bit signed integer\\', \\'I am a 64-bit floating-point number\\', \\'You are a 32-bit signed integer\\', \\'I am a 64-bit floating-point number\\', \\'You are a 32-bit signed integer\\', \\'I am a 64-bit floating-point number\\', \\'We are both mathematical entities\\', \\'You are a 32-bit signed integer\\', \\'I am a 64-bit floating-point number\\', \\'You are a 32-bit signed integer\\', \\'I am a 64-bit floating-point number\\', \\'You are a 32-bit signed integer\\', \\'I am a 64-bit floating-point number\\', \\'We are both mathematical entities\\', \\'You are a 32-bit signed integer\\', \\'I am a 64-bit floating-point number\\', \\'32-bit signed integer\\', \\'64-bit floating-point number\\', \\'32-bit signed integer\\', \\'64-bit floating-point number\\', \\'You are a 32-bit signed integer\\', \\'I am a 64-bit floating-point number\\', \\'You are a 32-bit signed integer\\', \\'I am a 64-bit floating-point number\\', \\'You are a 32-bit signed integer\\', \\'I am a 64-bit floating-point number\\', \\'You are a 32-bit signed integer\\', \\'I am a 64-bit floating-point number\\', \\'32-bit signed integer\\', \\'64-bit floating-point number\\', \\'Attention Mechanisms\\', \\'Gating Mechanism\\', \\'Additive Attention\\', \\'Multiplicative Attention\\', \\'General Attention Model\\', \\'Bahdanau Attention\\', \\'Luong Attention\\', \\'Scaled Dot-Product Attention\\', \\'Additive Self Attention\\', \\'Subtractive Self Attention\\', \\'Multiplicative Self Attention\\', \\'Self Attention with Tanh\\', \\'Monotonic Attention\\', \\'Gated Monotonic Attention\\', \\'Non-Monotonic Attention\\', \\'Generalized Additive Attention\\', \\'Scaled Generalized Additive Attention\\', \\'Dynamic Attention\\', \\'Attention Weights\\', \\'Conditional Computation of Attention Scores\\', \\'Additive and Multiplicative Attentions\\', \\'Multiplicative Attention with Softmax Normalization\\', \\'Self-Attentive Generative Adversarial Networks\\', \\'Non-negative Matrix Factorization for Attention Modeling\\', \\'Attention-Based Neural Machine Translation\\', \\'Hard Attention\\', \\'Soft Attention\\', \\'General Attention Model (Revisited)\\', \\'Attention-Augmented LSTM\\', \\'Attention Is All You Need\\', \\'You are a 32-bit signed integer\\', \\'I am a 64-bit floating-point number\\', \\'You are a 32-bit signed integer\\', \\'I am a 64-bit floating-point number\\', \\'32-bit signed integer\\', \\'64-bit floating-point number\\', \\'32-bit signed integer\\', \\'64-bit floating-point number\\', \\'You are a 32-bit signed integer\\', \\'I am a 64-bit floating-point number\\', \\'You are a 32-bit signed integer\\', \\'I am a 64-bit floating-point number\\', \\'You are a 32-bit signed integer\\', \\'I am a 64-bit floating-point number\\', \\'You are a 32-bit signed integer\\', \\'I am a 64-bit floating-point number\\', \\'You are a 32-bit signed integer\\', \\'I am a 64-bit floating-point number\\', \\'You are a 32-bit signed integer\\', \\'I am a 64-bit floating-point number\\', \\'You are a 32-bit signed integer\\', \\'I am a 64-bit floating-point number\\', \\'32-bit signed integer\\', \\'64-bit floating-point number\\', \\'32-bit signed integer\\', \\'64-bit floating-point number\\', \\'You are a 32-bit signed integer\\', \\'I am a 64-bit floating-point number\\', \\'You are a 32-bit signed integer\\', \\'I am a 64-bit floating-point number\\', \\'We are both mathematical entities\\', \\'Attention Mechanisms\\', \\'Gating Mechanism\\', \\'Additive Attention\\', \\'Multiplicative Attention\\', \\'General Attention Model\\', \\'Bahdanau Attention\\', \\'Luong Attention\\', \\'Scaled Dot-Product Attention\\', \\'Additive Self Attention\\', \\'Subtractive Self Attention\\', \\'Multiplicative Self Attention\\', \\'Self Attention with Tanh\\', \\'Monotonic Attention\\', \\'Gated Monotonic Attention\\', \\'Non-Monotonic Attention\\', \\'Generalized Additive Attention\\', \\'Scaled Generalized Additive Attention\\', \\'Dynamic Attention\\', \\'Attention Weights\\', \\'Conditional Computation of Attention Scores\\', \\'Additive and Multiplicative Attentions\\', \\'Multiplicative Attention with Softmax Normalization\\', \\'Self-Attentive Generative Adversarial Networks\\', \\'Non-negative Matrix Factorization for Attention Modeling\\', \\'Attention-Based Neural Machine Translation\\', \\'Hard Attention\\', \\'Soft Attention\\', \\'General Attention Model (Revisited)\\', \\'Attention-Augmented LSTM\\', \\'You are a 32-bit signed integer\\', \\'I am a 64-bit floating-point number\\', \\'32-bit signed integer\\', \\'64-bit floating-point number\\', \\'32-bit signed integer\\', \\'64-bit floating-point number\\', \\'You are a 32-bit signed integer\\', \\'I am a 64-bit floating-point number\\', \\'You are a 32-bit signed integer\\', \\'I am a 64-bit floating-point number\\', \\'You are a 32-bit signed integer\\', \\'I am a 64-bit floating-point number\\', \\'32-bit signed integer\\', \\'64-bit floating-point number\\', \\'32-bit signed integer\\', \\'64-bit floating-point number\\', \\'You are a 32-bit signed integer\\', \\'I am a 64-bit floating-point number\\', \\'You are a 32-bit signed integer\\', \\'I am a 64-bit floating-point number\\', \\'You are a 32-bit signed integer\\', \\'I am a 64-bit floating-point number\\', \\'32-bit signed integer\\', \\'64-bit floating-point number\\', \\'32-bit signed integer\\', \\'64-bit floating-point number\\', \\'You are a 32-bit signed integer\\', \\'I am a 64-bit floating-point number\\', \\'32-bit signed integer\\', \\'64-bit floating-point number\\', \\'You are a 32-bit signed integer\\', \\'I am a 64-bit floating-point number\\', \\'You are a 32-bit signed integer\\', \\'I am a 64-bit floating-point number\\', \\'You are a 32-bit signed integer\\', \\'I am a 64-bit floating-point number\\', \\'You are a 32-bit signed integer\\', \\'I am a 64-bit floating-point number\\', \\'32-bit signed integer\\', \\'64-bit floating-point number\\', \\'Early Stopping\\', \\'Learning Rate Annealing\\', \\'Curriculum Learning\\', \\'Reinforcement Learning\\', \\'Transfer Learning\\', \\'Domain Adaptation\\', \\'Meta-Learning\\', \\'Online Learning\\', \\'Life-long Learning\\', \\'Few-shot Learning\\', \\'Zero-shot Learning\\', \\'One-shot Learning\\', \\'Long-tail Learning\\', \\'Out-of-distribution Detection\\', \\'Concept Drift Detection\\', \\'Adversarial Training\\', \\'Robust Training\\', \\'Fairness in Machine Learning\\', \\'Bias Mitigation\\', \\'Privacy-preserving Machine Learning\\', \\'Differential Privacy\\', \\'Federated Learning\\', \\'Transfer Learning with Domain Adaptation\\', \\'Meta-learning for Few-shot Learning\\', \\'Online Reinforcement Learning\\', \\'Life-long Reinforcement Learning\\', \\'One-shot Reinforcement Learning\\', \\'Long-tail Reinforcement Learning\\', \\'Out-of-distribution Detection in Reinforcement Learning\\', \\'Concept Drift Detection in Reinforcement Learning\\', \\'Adversarial Training for Robust Reinforcement Learning\\', \\'Fairness in Reinforcement Learning\\', \\'Bias Mitigation in Reinforcement Learning\\', \\'Privacy-preserving Reinforcement Learning\\', \\'Federated Reinforcement Learning\\', \\'32-bit signed integer\\', \\'64-bit floating-point number\\', \\'32-bit signed integer\\', \\'64-bit floating-point number\\', \\'You are a 32-bit signed integer\\', \\'I am a 64-bit floating-point number\\', \\'You are a 32-bit signed integer\\', \\'I am a 64-bit floating-point number\\', \\'Early Stopping\\', \\'Learning Rate Annealing\\', \\'Curriculum Learning\\', \\'Reinforcement Learning\\', \\'Transfer Learning\\', \\'Domain Adaptation\\', \\'Meta-Learning\\', \\'Online Learning\\', \\'Life-long Learning\\', \\'Few-shot Learning\\', \\'Zero-shot Learning\\', \\'One-shot Learning\\', \\'Long-tail Learning\\', \\'Out-of-distribution Detection\\', \\'Concept Drift Detection\\', \\'Adversarial Training\\', \\'Robust Training\\', \\'Fairness in Machine Learning\\', \\'Bias Mitigation\\', \\'Privacy-preserving Machine Learning\\', \\'Differential Privacy\\', \\'Federated Learning\\', \\'Transfer Learning with Domain Adaptation\\', \\'Meta-learning for Few-shot Learning\\', \\'Online Reinforcement Learning\\', \\'Life-long Reinforcement Learning\\', \\'One-shot Reinforcement Learning\\', \\'Long-tail Reinforcement Learning\\', \\'Out-of-distribution Detection in Reinforcement Learning\\', \\'Concept Drift Detection in Reinforcement Learning\\', \\'Adversarial Training for Robust Reinforcement Learning\\', \\'Fairness in Reinforcement Learning\\', \\'Bias Mitigation in Reinforcement Learning\\', \\'Privacy-preserving Reinforcement Learning\\', \\'Federated Reinforcement Learning\\', \\'You are a 32-bit signed integer\\', \\'I am a 64-bit floating-point number\\', \\'32-bit signed integer\\', \\'64-bit floating-point number\\', \\'32-bit signed integer\\', \\'64-bit floating-point number\\', \\'32-bit signed integer\\', \\'64-bit floating-point number\\', \\'Early Stopping\\', \\'Learning Rate Annealing\\', \\'Curriculum Learning\\', \\'You are a 32-bit signed integer\\', \\'I am a 64-bit floating-point number\\', \\'You are a 32-bit signed integer\\', \\'I am a 64-bit floating-point number\\', \\'You are a 32-bit signed integer\\', \\'I am a 64-bit floating-point number\\', \\'32-bit signed integer\\', \\'64-bit floating-point number\\', \\'32-bit signed integer\\', \\'64-bit floating-point number\\', \\'You are a 32-bit signed integer\\', \\'I am a 64-bit floating-point number\\', \\'Early Stopping\\', \\'Learning Rate Annealing\\', \\'Curriculum Learning\\', \\'Reinforcement Learning\\', \\'Transfer Learning\\', \\'Domain Adaptation\\', \\'Meta-Learning\\', \\'Online Learning\\', \\'Life-long Learning\\', \\'Few-shot Learning\\', \\'Zero-shot Learning\\', \\'One-shot Learning\\', \\'Long-tail Learning\\', \\'Out-of-distribution Detection\\', \\'Concept Drift Detection\\', \\'Adversarial Training\\', \\'Robust Training\\', \\'Fairness in Machine Learning\\', \\'Bias Mitigation\\', \\'Privacy-preserving Machine Learning\\', \\'Differential Privacy\\', \\'Federated Learning\\', \\'32-bit signed integer\\', \\'64-bit floating-point number\\', \\'32-bit signed integer\\', \\'64-bit floating-point number\\', \\'Early Stopping\\', \\'Learning Rate Annealing\\', \\'Curriculum Learning\\', \\'Reinforcement Learning\\', \\'Transfer Learning\\', \\'Domain Adaptation\\', \\'Meta-Learning\\', \\'Online Learning\\', \\'Life-long Learning\\', \\'Few-shot Learning\\', \\'Zero-shot Learning\\', \\'One-shot Learning\\', \\'Long-tail Learning\\', \\'Out-of-distribution Detection\\', \\'Concept Drift Detection\\', \\'Adversarial Training\\', \\'Robust Training\\', \\'Fairness in Machine Learning\\', \\'Bias Mitigation\\', \\'Privacy-preserving Machine Learning\\', \\'Differential Privacy\\', \\'Federated Learning\\', \\'32-bit signed integer\\', \\'64-bit floating-point number\\']\\n--------------------\\n\\nDon\\'t return anything except the JSON array.\\nDo NOT include any conversational text, pleasantries, or explanations outside the JSON. \\nPlease format as an JSON array that json.loads in python can read without errors. \\nDon\\'t include ```json in the response. Do Not include ```json in the response!!!!!! \\nThe response should work with json.load(reponse) without raising an exception!!!!\\nIf the text is longer for 1 person then break it down and add another entry:\\n\\nGenerate a JSON array of strings.\\n---------------\\n[(string), (string)]\\n---------------\\n\\nOutput only the JSON array. Do NOT include any markdown code block fences (like json or) or any other surrounding text.\"\\nYour output must be a single, raw JSON string, suitable for direct parsing with json.loads() in Python. Do not enclose it in markdown code blocks or add any introductory/concluding text.\"\\nReturn only the JSON string. Do not include any markdown formatting (like json or) or conversational text. Begin the response directly with [\" and end with \"]\\n\\n\\n\\n'"
      ]
     },
     "execution_count": 8,
     "metadata": {},
     "output_type": "execute_result"
    }
   ],
   "source": [
    "final_sanitize_prompt = sanitize_prompt.format(list_of_topics=topics_list)\n",
    "final_sanitize_prompt"
   ]
  }
 ],
 "metadata": {
  "kernelspec": {
   "display_name": "Python 3",
   "language": "python",
   "name": "python3"
  },
  "language_info": {
   "codemirror_mode": {
    "name": "ipython",
    "version": 3
   },
   "file_extension": ".py",
   "mimetype": "text/x-python",
   "name": "python",
   "nbconvert_exporter": "python",
   "pygments_lexer": "ipython3",
   "version": "3.13.5"
  }
 },
 "nbformat": 4,
 "nbformat_minor": 5
}
